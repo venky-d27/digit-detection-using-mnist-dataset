{
 "cells": [
  {
   "cell_type": "code",
   "execution_count": 141,
   "metadata": {},
   "outputs": [],
   "source": [
    "#importing the neccessary modules\n",
    "import tensorflow as tf\n",
    "import numpy as np\n",
    "import matplotlib.pyplot as plt"
   ]
  },
  {
   "cell_type": "code",
   "execution_count": 142,
   "metadata": {},
   "outputs": [],
   "source": [
    "(x_train,y_train),(x_test,y_test)=tf.keras.datasets.mnist.load_data()#mnist is the dataset available in keras for digit recogonization "
   ]
  },
  {
   "cell_type": "code",
   "execution_count": 143,
   "metadata": {},
   "outputs": [
    {
     "data": {
      "text/plain": [
       "Text(0.5, 0, '5')"
      ]
     },
     "execution_count": 143,
     "metadata": {},
     "output_type": "execute_result"
    },
    {
     "data": {
      "image/png": "[encoded data removed]",
      "text/plain": [
       "<Figure size 432x288 with 1 Axes>"
      ]
     },
     "metadata": {
      "needs_background": "light"
     },
     "output_type": "display_data"
    }
   ],
   "source": [
    "plt.imshow(x_train[0],cmap=\"hot\")#cmap is used to view image with different colours \n",
    "plt.xlabel(str(y_train[0]))"
   ]
  },
  {
   "cell_type": "code",
   "execution_count": 144,
   "metadata": {},
   "outputs": [],
   "source": [
    "#x_train.shape "
   ]
  },
  {
   "cell_type": "code",
   "execution_count": 145,
   "metadata": {},
   "outputs": [],
   "source": [
    "#x_test.shape"
   ]
  },
  {
   "cell_type": "code",
   "execution_count": 146,
   "metadata": {},
   "outputs": [],
   "source": [
    "#x_train[0]"
   ]
  },
  {
   "cell_type": "code",
   "execution_count": 147,
   "metadata": {},
   "outputs": [],
   "source": [
    "#normalizing our data\n",
    "x_train=np.reshape(x_train,(60000,28*28))#make it as a one dimensional vector\n",
    "x_test=np.reshape(x_test,(10000,28*28))\n",
    "x_train=x_train/255#if you run the above cell you get to know that all the values lies between 0-255 for each traing eg. So,in order to make the values to range between 0-1 we divide it by 255\n",
    "x_test=x_test/255"
   ]
  },
  {
   "cell_type": "code",
   "execution_count": 148,
   "metadata": {},
   "outputs": [],
   "source": [
    "#creating our model\n",
    "model=tf.keras.models.Sequential([\n",
    "    tf.keras.layers.Dense(32,activation=\"relu\",input_shape=(784,)),#first hidden layer\n",
    "    tf.keras.layers.Dense(32,activation=\"relu\"),#second hidden layer\n",
    "    tf.keras.layers.Dense(10,activation=\"softmax\")#output layer\n",
    "])\n",
    "model.compile(\n",
    "    loss=\"sparse_categorical_crossentropy\",\n",
    "    optimizer=\"adam\",\n",
    "    metrics=[\"accuracy\"]\n",
    ")"
   ]
  },
  {
   "cell_type": "code",
   "execution_count": 149,
   "metadata": {},
   "outputs": [
    {
     "name": "stdout",
     "output_type": "stream",
     "text": [
      "Epoch 1/10\n",
      "60000/60000 [==============================] - 12s 195us/sample - loss: 0.3545 - acc: 0.8935\n",
      "Epoch 2/10\n",
      "60000/60000 [==============================] - 7s 116us/sample - loss: 0.1687 - acc: 0.9497\n",
      "Epoch 3/10\n",
      "60000/60000 [==============================] - 7s 109us/sample - loss: 0.1316 - acc: 0.9603\n",
      "Epoch 4/10\n",
      "60000/60000 [==============================] - 5s 81us/sample - loss: 0.1101 - acc: 0.9663\n",
      "Epoch 5/10\n",
      "60000/60000 [==============================] - 4s 61us/sample - loss: 0.0959 - acc: 0.9706\n",
      "Epoch 6/10\n",
      "60000/60000 [==============================] - 4s 71us/sample - loss: 0.0840 - acc: 0.9742\n",
      "Epoch 7/10\n",
      "60000/60000 [==============================] - 4s 75us/sample - loss: 0.0760 - acc: 0.9759\n",
      "Epoch 8/10\n",
      "60000/60000 [==============================] - 6s 100us/sample - loss: 0.0687 - acc: 0.9782\n",
      "Epoch 9/10\n",
      "60000/60000 [==============================] - 6s 104us/sample - loss: 0.0626 - acc: 0.9802\n",
      "Epoch 10/10\n",
      "60000/60000 [==============================] - 7s 114us/sample - loss: 0.0577 - acc: 0.9813\n"
     ]
    },
    {
     "data": {
      "text/plain": [
       "<tensorflow.python.keras.callbacks.History at 0x2c4e4a31940>"
      ]
     },
     "execution_count": 149,
     "metadata": {},
     "output_type": "execute_result"
    }
   ],
   "source": [
    "#train our model\n",
    "model.fit(x_train,y_train,epochs=10)"
   ]
  },
  {
   "cell_type": "code",
   "execution_count": 150,
   "metadata": {},
   "outputs": [],
   "source": [
    "model.save(\"digit_detection.model\")"
   ]
  },
  {
   "cell_type": "code",
   "execution_count": 151,
   "metadata": {},
   "outputs": [],
   "source": [
    "newmodel=tf.keras.models.load_model(\"digit_detection.model\")"
   ]
  },
  {
   "cell_type": "code",
   "execution_count": 152,
   "metadata": {},
   "outputs": [],
   "source": [
    "predictions=newmodel.predict([x_test])"
   ]
  },
  {
   "cell_type": "code",
   "execution_count": 153,
   "metadata": {},
   "outputs": [
    {
     "name": "stdout",
     "output_type": "stream",
     "text": [
      "[[1.3872060e-06 2.2429056e-09 2.6042280e-06 ... 9.9995935e-01\n",
      "  3.1578983e-07 1.2410542e-05]\n",
      " [2.5989695e-07 4.0886633e-07 9.9999464e-01 ... 5.4402538e-10\n",
      "  2.6533060e-06 1.9538722e-12]\n",
      " [1.2024247e-05 9.9112773e-01 2.1913701e-03 ... 3.2299631e-03\n",
      "  3.0903094e-03 3.1213338e-05]\n",
      " ...\n",
      " [2.1842674e-15 4.7356036e-11 1.5214850e-12 ... 7.7875901e-09\n",
      "  4.5027569e-08 1.9068611e-05]\n",
      " [2.2059186e-09 1.7977002e-13 5.3443514e-11 ... 1.8274127e-07\n",
      "  1.7505676e-05 2.1796042e-12]\n",
      " [1.8170441e-09 5.6224370e-14 5.3261874e-12 ... 3.1556085e-15\n",
      "  2.8254745e-13 3.3313362e-14]]\n"
     ]
    }
   ],
   "source": [
    "print(predictions)"
   ]
  },
  {
   "cell_type": "code",
   "execution_count": 154,
   "metadata": {},
   "outputs": [
    {
     "data": {
      "text/plain": [
       "7"
      ]
     },
     "execution_count": 154,
     "metadata": {},
     "output_type": "execute_result"
    }
   ],
   "source": [
    "np.argmax(predictions[0])#prediction of the first test sample"
   ]
  },
  {
   "cell_type": "code",
   "execution_count": 155,
   "metadata": {},
   "outputs": [
    {
     "data": {
      "text/plain": [
       "<matplotlib.image.AxesImage at 0x2c4f1696080>"
      ]
     },
     "execution_count": 155,
     "metadata": {},
     "output_type": "execute_result"
    },
    {
     "data": {
      "image/png": "[encoded data removed]",
      "text/plain": [
       "<Figure size 432x288 with 1 Axes>"
      ]
     },
     "metadata": {
      "needs_background": "light"
     },
     "output_type": "display_data"
    }
   ],
   "source": [
    "#checking whether our test sample is sample as the above prediction\n",
    "image=x_test[0]\n",
    "image=np.reshape(image,(28,28))#reshaping our one dimensional vector back to original dimensional\n",
    "plt.imshow(image,cmap=\"hot\")"
   ]
  },
  {
   "cell_type": "code",
   "execution_count": null,
   "metadata": {},
   "outputs": [],
   "source": []
  },
  {
   "cell_type": "code",
   "execution_count": null,
   "metadata": {},
   "outputs": [],
   "source": []
  },
  {
   "cell_type": "code",
   "execution_count": null,
   "metadata": {},
   "outputs": [],
   "source": []
  }
 ],
 "metadata": {
  "kernelspec": {
   "display_name": "Python 3",
   "language": "python",
   "name": "python3"
  },
  "language_info": {
   "codemirror_mode": {
    "name": "ipython",
    "version": 3
   },
   "file_extension": ".py",
   "mimetype": "text/x-python",
   "name": "python",
   "nbconvert_exporter": "python",
   "pygments_lexer": "ipython3",
   "version": "3.7.3"
  }
 },
 "nbformat": 4,
 "nbformat_minor": 2
}
